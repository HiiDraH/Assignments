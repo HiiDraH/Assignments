{
 "cells": [
  {
   "cell_type": "markdown",
   "metadata": {},
   "source": [
    "### ONE"
   ]
  },
  {
   "cell_type": "code",
   "execution_count": 1,
   "metadata": {},
   "outputs": [
    {
     "name": "stdout",
     "output_type": "stream",
     "text": [
      "[2002, 2009, 2016, 2023, 2037, 2044, 2051, 2058, 2072, 2079, 2086, 2093, 2107, 2114, 2121, 2128, 2142, 2149, 2156, 2163, 2177, 2184, 2191, 2198, 2212, 2219, 2226, 2233, 2247, 2254, 2261, 2268, 2282, 2289, 2296, 2303, 2317, 2324, 2331, 2338, 2352, 2359, 2366, 2373, 2387, 2394, 2401, 2408, 2422, 2429, 2436, 2443, 2457, 2464, 2471, 2478, 2492, 2499, 2506, 2513, 2527, 2534, 2541, 2548, 2562, 2569, 2576, 2583, 2597, 2604, 2611, 2618, 2632, 2639, 2646, 2653, 2667, 2674, 2681, 2688, 2702, 2709, 2716, 2723, 2737, 2744, 2751, 2758, 2772, 2779, 2786, 2793, 2807, 2814, 2821, 2828, 2842, 2849, 2856, 2863, 2877, 2884, 2891, 2898, 2912, 2919, 2926, 2933, 2947, 2954, 2961, 2968, 2982, 2989, 2996, 3003, 3017, 3024, 3031, 3038, 3052, 3059, 3066, 3073, 3087, 3094, 3101, 3108, 3122, 3129, 3136, 3143, 3157, 3164, 3171, 3178, 3192, 3199]\n",
      "The number of elements divisible by 7 in the range 2000-3200 are 138 in total  \n"
     ]
    }
   ],
   "source": [
    "#lowbound = 2000\n",
    "#upbound = 3200\n",
    "elem =[] # creeating an empty list \n",
    "for ele in range(2000, 3200+1): # defines the upper and lower bound of the range\n",
    "    if (ele % 7 == 0) and (ele % 5 != 0): #condition which tells which element are chosen\n",
    "        elem.append((ele)) # includes each element to the list elem\n",
    "print((elem))\n",
    "print('The number of elements divisible by 7 in the range 2000-3200 are {} in total  '.format(len(elem)))\n",
    "    \n",
    "        "
   ]
  },
  {
   "cell_type": "markdown",
   "metadata": {},
   "source": [
    "### TWO"
   ]
  },
  {
   "cell_type": "code",
   "execution_count": 2,
   "metadata": {
    "scrolled": true
   },
   "outputs": [
    {
     "name": "stdout",
     "output_type": "stream",
     "text": [
      "First Name: SUDHANSU\n",
      "Last Name: SUDH\n",
      "('USNAHDUS', 'HDUS')\n"
     ]
    }
   ],
   "source": [
    "fname = input('First Name: ')\n",
    "lname = input('Last Name: ')\n",
    "names = fname[::-1],lname[::-1]\n",
    "print (names)"
   ]
  },
  {
   "cell_type": "markdown",
   "metadata": {},
   "source": [
    "### THREE"
   ]
  },
  {
   "cell_type": "code",
   "execution_count": 8,
   "metadata": {},
   "outputs": [
    {
     "name": "stdout",
     "output_type": "stream",
     "text": [
      "enter diameter:3\n",
      "volume of circle with 1.5 radius is 14.139\n"
     ]
    }
   ],
   "source": [
    "pi = 3.142\n",
    "rad= float(input('enter diameter:'))/2\n",
    "vol = float((4/3) * pi * (rad**3))\n",
    "print ('volume of circle with {} radius is {}'.format(rad,vol))"
   ]
  },
  {
   "cell_type": "markdown",
   "metadata": {},
   "source": [
    "### FOUR"
   ]
  },
  {
   "cell_type": "code",
   "execution_count": 4,
   "metadata": {
    "scrolled": true
   },
   "outputs": [
    {
     "name": "stdout",
     "output_type": "stream",
     "text": [
      "enter comma seperated numbers:1,2,3,4,5,6,7,8,9,0\n",
      "['1', ',', '2', ',', '3', ',', '4', ',', '5', ',', '6', ',', '7', ',', '8', ',', '9', ',', '0']\n"
     ]
    },
    {
     "data": {
      "text/plain": [
       "list"
      ]
     },
     "execution_count": 4,
     "metadata": {},
     "output_type": "execute_result"
    }
   ],
   "source": [
    "n = input ('enter comma seperated numbers:')\n",
    "m = list(n)\n",
    "print (m)\n",
    "type (m)"
   ]
  },
  {
   "cell_type": "markdown",
   "metadata": {},
   "source": [
    "### FIVE"
   ]
  },
  {
   "cell_type": "code",
   "execution_count": 5,
   "metadata": {},
   "outputs": [
    {
     "name": "stdout",
     "output_type": "stream",
     "text": [
      "number of rows?: 6\n",
      "\n",
      "*\n",
      "**\n",
      "***\n",
      "****\n",
      "*****\n",
      "******\n",
      "*****\n",
      "****\n",
      "***\n",
      "**\n",
      "*\n"
     ]
    }
   ],
   "source": [
    "rows=int(input('number of rows?: '))\n",
    "for row in range(rows):# tells the number of rows used\n",
    "    for j in (range(row)):\n",
    "            print ('*', end=\"\")\n",
    "    print('')\n",
    "for row in range(rows,0,-1):\n",
    "    for j in range(row):        \n",
    "        print('*', end=\"\")\n",
    "    print('')"
   ]
  },
  {
   "cell_type": "markdown",
   "metadata": {},
   "source": [
    "### NUMBER 6"
   ]
  },
  {
   "cell_type": "code",
   "execution_count": 6,
   "metadata": {},
   "outputs": [
    {
     "name": "stdout",
     "output_type": "stream",
     "text": [
      "enter an input: niaben\n",
      "niaben\n",
      "nebain\n"
     ]
    }
   ],
   "source": [
    "userinput = input('enter an input: ')\n",
    "print (userinput)\n",
    "rev_userinput = userinput[::-1]\n",
    "print(rev_userinput)\n"
   ]
  },
  {
   "cell_type": "markdown",
   "metadata": {},
   "source": [
    "### NUMBER 7"
   ]
  },
  {
   "cell_type": "code",
   "execution_count": 9,
   "metadata": {},
   "outputs": [
    {
     "name": "stdout",
     "output_type": "stream",
     "text": [
      "WE, THE PEOPLE OF INDIA,\n",
      "\n",
      "\thaving solemnly resolved to constitute India into a SOVEREIGN,\n",
      "\n",
      "\t\tSOCIALIST, SECULAR, DEMOCRATIC REPUBLIC\n",
      "\n",
      "\t\tand to secure to all its citizens\n"
     ]
    }
   ],
   "source": [
    "word = '''WE, THE PEOPLE OF INDIA,\n",
    "\\n\\thaving solemnly resolved to constitute India into a SOVEREIGN,\n",
    "\\n\\t\\tSOCIALIST, SECULAR, DEMOCRATIC REPUBLIC\n",
    "\\n\\t\\tand to secure to all its citizens'''\n",
    "print(word)"
   ]
  },
  {
   "cell_type": "code",
   "execution_count": null,
   "metadata": {},
   "outputs": [],
   "source": []
  }
 ],
 "metadata": {
  "kernelspec": {
   "display_name": "Python 3",
   "language": "python",
   "name": "python3"
  },
  "language_info": {
   "codemirror_mode": {
    "name": "ipython",
    "version": 3
   },
   "file_extension": ".py",
   "mimetype": "text/x-python",
   "name": "python",
   "nbconvert_exporter": "python",
   "pygments_lexer": "ipython3",
   "version": "3.7.3"
  }
 },
 "nbformat": 4,
 "nbformat_minor": 2
}
